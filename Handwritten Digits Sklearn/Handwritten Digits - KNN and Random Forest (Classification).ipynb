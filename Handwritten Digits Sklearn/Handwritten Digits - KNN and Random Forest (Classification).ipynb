{
 "cells": [
  {
   "cell_type": "markdown",
   "metadata": {},
   "source": [
    "## About the Sklearn Digit Dataset\n",
    "\n",
    "This dataset is made up of 1797 8x8 images. Each image, like the one shown below, is of a hand-written digit. In order to utilize an 8x8 figure like this, we’d have to first transform it into a feature vector with length 64.\n",
    "\n",
    "https://scikit-learn.org/stable/auto_examples/datasets/plot_digits_last_image.html#sphx-glr-auto-examples-datasets-plot-digits-last-image-py"
   ]
  },
  {
   "cell_type": "markdown",
   "metadata": {},
   "source": [
    "### Loading the digits dataset"
   ]
  },
  {
   "cell_type": "code",
   "execution_count": 154,
   "metadata": {},
   "outputs": [],
   "source": [
    "from sklearn.datasets import load_digits\n",
    "#load_digits is the function used to load the digits dataset from sklearn module\n",
    "dataset=load_digits()"
   ]
  },
  {
   "cell_type": "markdown",
   "metadata": {},
   "source": [
    "### Setting up the data, target and images "
   ]
  },
  {
   "cell_type": "code",
   "execution_count": 155,
   "metadata": {},
   "outputs": [],
   "source": [
    "data=dataset.data\n",
    "target=dataset.target\n",
    "images=dataset.images"
   ]
  },
  {
   "cell_type": "code",
   "execution_count": 156,
   "metadata": {
    "scrolled": true
   },
   "outputs": [
    {
     "name": "stdout",
     "output_type": "stream",
     "text": [
      "data shape: (1797, 64)\n",
      "images shape: (1797, 8, 8)\n",
      "data shape: (1797,)\n"
     ]
    }
   ],
   "source": [
    "print('data shape:',data.shape)\n",
    "print('images shape:',images.shape)\n",
    "print('data shape:',target.shape)"
   ]
  },
  {
   "cell_type": "markdown",
   "metadata": {},
   "source": [
    "- Images are of 8x8 dimension\n",
    "\n",
    "- We have 64 features in data with 1797 records or digits\n",
    "\n",
    "- and 1797 target values"
   ]
  },
  {
   "cell_type": "markdown",
   "metadata": {},
   "source": [
    "### original version of one image"
   ]
  },
  {
   "cell_type": "code",
   "execution_count": 157,
   "metadata": {},
   "outputs": [
    {
     "name": "stdout",
     "output_type": "stream",
     "text": [
      "[ 0.  0.  0. 12. 13.  0.  0.  0.  0.  0.  5. 16.  8.  0.  0.  0.  0.  0.\n",
      " 13. 16.  3.  0.  0.  0.  0.  0. 14. 13.  0.  0.  0.  0.  0.  0. 15. 12.\n",
      "  7.  2.  0.  0.  0.  0. 13. 16. 13. 16.  3.  0.  0.  0.  7. 16. 11. 15.\n",
      "  8.  0.  0.  0.  1.  9. 15. 11.  3.  0.]\n"
     ]
    }
   ],
   "source": [
    "print(data[6])  "
   ]
  },
  {
   "cell_type": "markdown",
   "metadata": {},
   "source": [
    "- data contains the faltten version and we have 64 pixel values. We will more understand this by below diagram"
   ]
  },
  {
   "cell_type": "markdown",
   "metadata": {},
   "source": [
    "### Visaulization"
   ]
  },
  {
   "cell_type": "code",
   "execution_count": 158,
   "metadata": {},
   "outputs": [
    {
     "data": {
      "image/png": "[encoded data removed]",
      "text/plain": [
       "<Figure size 432x288 with 1 Axes>"
      ]
     },
     "metadata": {
      "needs_background": "light"
     },
     "output_type": "display_data"
    }
   ],
   "source": [
    "from matplotlib import pyplot as plt\n",
    "\n",
    "plt.imshow(images[6])\n",
    "plt.show()"
   ]
  },
  {
   "cell_type": "markdown",
   "metadata": {},
   "source": [
    "### Grey Scale Visualization"
   ]
  },
  {
   "cell_type": "markdown",
   "metadata": {},
   "source": [
    "We will see it in grey cmap for better understanding.."
   ]
  },
  {
   "cell_type": "code",
   "execution_count": 159,
   "metadata": {},
   "outputs": [
    {
     "data": {
      "image/png": "[encoded data removed]",
      "text/plain": [
       "<Figure size 432x288 with 1 Axes>"
      ]
     },
     "metadata": {
      "needs_background": "light"
     },
     "output_type": "display_data"
    }
   ],
   "source": [
    "from matplotlib import pyplot as plt\n",
    "\n",
    "plt.imshow(images[6],cmap='gray')\n",
    "plt.show()"
   ]
  },
  {
   "cell_type": "markdown",
   "metadata": {},
   "source": [
    "### Flatten Version of Image"
   ]
  },
  {
   "cell_type": "code",
   "execution_count": 160,
   "metadata": {},
   "outputs": [
    {
     "data": {
      "text/plain": [
       "<matplotlib.image.AxesImage at 0x19eb9b44df0>"
      ]
     },
     "execution_count": 160,
     "metadata": {},
     "output_type": "execute_result"
    },
    {
     "data": {
      "image/png": "[encoded data removed]",
      "text/plain": [
       "<Figure size 432x288 with 1 Axes>"
      ]
     },
     "metadata": {
      "needs_background": "light"
     },
     "output_type": "display_data"
    }
   ],
   "source": [
    "plt.imshow(images[6].reshape(1,64),cmap='gray')"
   ]
  },
  {
   "cell_type": "markdown",
   "metadata": {},
   "source": [
    "### 8x8 matrix version of image"
   ]
  },
  {
   "cell_type": "code",
   "execution_count": 161,
   "metadata": {},
   "outputs": [
    {
     "name": "stdout",
     "output_type": "stream",
     "text": [
      "[[ 0.  0.  0. 12. 13.  0.  0.  0.]\n",
      " [ 0.  0.  5. 16.  8.  0.  0.  0.]\n",
      " [ 0.  0. 13. 16.  3.  0.  0.  0.]\n",
      " [ 0.  0. 14. 13.  0.  0.  0.  0.]\n",
      " [ 0.  0. 15. 12.  7.  2.  0.  0.]\n",
      " [ 0.  0. 13. 16. 13. 16.  3.  0.]\n",
      " [ 0.  0.  7. 16. 11. 15.  8.  0.]\n",
      " [ 0.  0.  1.  9. 15. 11.  3.  0.]]\n"
     ]
    }
   ],
   "source": [
    "print(images[6])"
   ]
  },
  {
   "cell_type": "markdown",
   "metadata": {},
   "source": [
    "- Majority of the image is black. And the value of background is inverted to black and the foreground is inverted to pixel values.\n",
    "- This is 2D flatten version of the image(8x8)"
   ]
  },
  {
   "cell_type": "code",
   "execution_count": 162,
   "metadata": {},
   "outputs": [
    {
     "name": "stdout",
     "output_type": "stream",
     "text": [
      "[0 1 2 3 4]\n"
     ]
    }
   ],
   "source": [
    "print(target[:5])"
   ]
  },
  {
   "cell_type": "markdown",
   "metadata": {},
   "source": [
    "### Image Thresholding"
   ]
  },
  {
   "cell_type": "markdown",
   "metadata": {},
   "source": [
    "If pixel value is greater than a threshold value, it is assigned one value (may be white), else it is assigned another value (may be black). The function used is cv2.threshold. First argument is the source image, which should be a grayscale image. Second argument is the threshold value which is used to classify the pixel values. Third argument is the maxVal which represents the value to be given if pixel value is more than (sometimes less than) the threshold value. OpenCV provides different styles of thresholding and it is decided by the fourth parameter of the function. Different types are:\n",
    "\n",
    "cv2.THRESH_BINARY\n",
    "\n",
    "cv2.THRESH_BINARY_INV\n",
    "\n",
    "cv2.THRESH_TRUNC\n",
    "\n",
    "cv2.THRESH_TOZERO\n",
    "\n",
    "cv2.THRESH_TOZERO_INV"
   ]
  },
  {
   "cell_type": "code",
   "execution_count": 163,
   "metadata": {},
   "outputs": [],
   "source": [
    "import cv2\n",
    "\n",
    "ret,data=cv2.threshold(data,7,15,cv2.THRESH_BINARY)\n",
    "ret,images_new=cv2.threshold(images,7,15,cv2.THRESH_BINARY)"
   ]
  },
  {
   "cell_type": "markdown",
   "metadata": {},
   "source": [
    "### How to install OpenCV in Windows?\n",
    "\n",
    "https://medium.com/@pranav.keyboard/installing-opencv-for-python-on-windows-using-anaconda-or-winpython-f24dd5c895eb "
   ]
  },
  {
   "cell_type": "markdown",
   "metadata": {},
   "source": [
    "### After Image Thresholding"
   ]
  },
  {
   "cell_type": "code",
   "execution_count": 164,
   "metadata": {},
   "outputs": [
    {
     "data": {
      "image/png": "[encoded data removed]",
      "text/plain": [
       "<Figure size 432x288 with 1 Axes>"
      ]
     },
     "metadata": {
      "needs_background": "light"
     },
     "output_type": "display_data"
    }
   ],
   "source": [
    "from matplotlib import pyplot as plt\n",
    "\n",
    "plt.imshow(images_new[100],cmap='gray')\n",
    "plt.show()"
   ]
  },
  {
   "cell_type": "markdown",
   "metadata": {},
   "source": [
    "### Splitting of Dataset"
   ]
  },
  {
   "cell_type": "code",
   "execution_count": 165,
   "metadata": {},
   "outputs": [],
   "source": [
    "from sklearn.model_selection import train_test_split\n",
    "\n",
    "X_train,X_test,y_train,y_test=train_test_split(data,target,test_size=0.2)"
   ]
  },
  {
   "cell_type": "markdown",
   "metadata": {},
   "source": [
    "### KNeighborsClassifier Algorithm"
   ]
  },
  {
   "cell_type": "code",
   "execution_count": 166,
   "metadata": {},
   "outputs": [],
   "source": [
    "from sklearn.neighbors import KNeighborsClassifier\n",
    "from sklearn.metrics import confusion_matrix, accuracy_score, roc_auc_score, roc_curve\n",
    "knn=KNeighborsClassifier()"
   ]
  },
  {
   "cell_type": "markdown",
   "metadata": {},
   "source": [
    "### Model Running and Different Evaluation Metrics"
   ]
  },
  {
   "cell_type": "code",
   "execution_count": 176,
   "metadata": {},
   "outputs": [],
   "source": [
    "def model_eval(algo, xtrain, ytrain, xtest, ytest):\n",
    "    algo.fit(xtrain,ytrain)\n",
    "\n",
    "    print(\"Train Results \\n\")\n",
    "    y_train_pred  = algo.predict(xtrain)\n",
    "    y_train_prob = algo.predict_proba(xtrain)[:,1]\n",
    "\n",
    "    print(\"Confusion Matrix for Train : \\n\", confusion_matrix(ytrain, y_train_pred))\n",
    "    print(\"Accuracy Score for Train : \\n\", accuracy_score(ytrain, y_train_pred))\n",
    "\n",
    "    print(\"+\"*50)\n",
    "    print(\"Test Results \\n\")\n",
    "    y_test_pred  = algo.predict(xtest)\n",
    "    y_test_prob = algo.predict_proba(xtest)[:,1]\n",
    "\n",
    "    print(\"Confusion Matrix for Test : \\n\", confusion_matrix(ytest, y_test_pred))\n",
    "    print(\"Accuracy Score for Test : \\n\", accuracy_score(ytest, y_test_pred))"
   ]
  },
  {
   "cell_type": "markdown",
   "metadata": {},
   "source": [
    "### Applying the Function"
   ]
  },
  {
   "cell_type": "code",
   "execution_count": 177,
   "metadata": {},
   "outputs": [
    {
     "name": "stdout",
     "output_type": "stream",
     "text": [
      "Train Results \n",
      "\n",
      "Confusion Matrix for Train : \n",
      " [[139   0   0   0   0   1   0   0   0   0]\n",
      " [  0 112   5   0   0   1   4   0   6   3]\n",
      " [  2   5 126   3   0   0   1   1   3   0]\n",
      " [  0   2   1 131   0   3   1   2   2   7]\n",
      " [  1   5   0   0 130   0   0   5   1   0]\n",
      " [  0   0   0   1   1 136   2   0   0   8]\n",
      " [  3   2   0   0   1   0 138   0   0   0]\n",
      " [  0   0   1   0   1   0   0 145   0   0]\n",
      " [  0  17   1   5   0   3   4   2 114   0]\n",
      " [  2   6   0   3   2   4   0   8   3 121]]\n",
      "Accuracy Score for Train : \n",
      " 0.8990953375086986\n",
      "++++++++++++++++++++++++++++++++++++++++++++++++++\n",
      "Test Results \n",
      "\n",
      "Confusion Matrix for Test : \n",
      " [[38  0  0  0  0  0  0  0  0  0]\n",
      " [ 0 42  3  0  0  0  1  0  4  1]\n",
      " [ 0  3 29  1  0  0  0  2  1  0]\n",
      " [ 0  0  1 30  0  0  0  2  0  1]\n",
      " [ 0  4  0  0 34  0  0  1  0  0]\n",
      " [ 0  0  0  2  1 26  0  0  0  5]\n",
      " [ 0  1  0  0  0  0 36  0  0  0]\n",
      " [ 0  0  0  0  0  0  0 32  0  0]\n",
      " [ 0  3  0  0  0  1  1  0 23  0]\n",
      " [ 1  1  0  4  0  1  0  2  0 22]]\n",
      "Accuracy Score for Test : \n",
      " 0.8666666666666667\n"
     ]
    }
   ],
   "source": [
    "model_eval(knn, X_train, y_train, X_test, y_test)"
   ]
  },
  {
   "cell_type": "markdown",
   "metadata": {},
   "source": [
    "- We will try to tune k_neighbors in the KNeighborsClassifier"
   ]
  },
  {
   "cell_type": "markdown",
   "metadata": {},
   "source": [
    "### Tunning KNN"
   ]
  },
  {
   "cell_type": "code",
   "execution_count": 169,
   "metadata": {},
   "outputs": [
    {
     "name": "stdout",
     "output_type": "stream",
     "text": [
      "The optimal number of neighbors is 9\n"
     ]
    }
   ],
   "source": [
    "from sklearn.model_selection import KFold\n",
    "from sklearn.model_selection import cross_val_score\n",
    "# creating odd list of K for KNN\n",
    "List = list(range(1,30))\n",
    "# empty list that will hold cv scores\n",
    "cv_scores = []\n",
    "k_neighbors = []\n",
    "for k in myList:\n",
    "    knn = KNeighborsClassifier(n_neighbors=k)\n",
    "    scores = cross_val_score(knn, X_train, y_train, cv=20, scoring='accuracy')\n",
    "    cv_scores.append(scores.mean())\n",
    "    k_neighbors.append(k)\n",
    "MSE = [1 - x for x in cv_scores]\n",
    "min(MSE)\n",
    "MSE.index(min(MSE))\n",
    "best_k = List[MSE.index(min(MSE))]\n",
    "print (\"The optimal number of neighbors is %d\" % best_k)"
   ]
  },
  {
   "cell_type": "code",
   "execution_count": 170,
   "metadata": {},
   "outputs": [
    {
     "data": {
      "image/png": "[encoded data removed]",
      "text/plain": [
       "<Figure size 432x288 with 1 Axes>"
      ]
     },
     "metadata": {
      "needs_background": "light"
     },
     "output_type": "display_data"
    }
   ],
   "source": [
    "%matplotlib inline \n",
    "import matplotlib.pyplot as plt\n",
    "# plot misclassification error vs k\n",
    "plt.plot(k_neighbors, cv_scores)\n",
    "plt.xlabel('Number of Neighbors K')\n",
    "plt.ylabel('Accuracy')\n",
    "plt.show()"
   ]
  },
  {
   "cell_type": "code",
   "execution_count": 171,
   "metadata": {},
   "outputs": [
    {
     "name": "stdout",
     "output_type": "stream",
     "text": [
      "[[38  0  0  0  0  0  0  0  0  0]\n",
      " [ 0 48  0  0  0  0  0  0  3  0]\n",
      " [ 0  1 35  0  0  0  0  0  0  0]\n",
      " [ 0  0  0 32  0  0  0  1  0  1]\n",
      " [ 0  2  0  0 37  0  0  0  0  0]\n",
      " [ 0  0  0  0  1 30  0  0  0  3]\n",
      " [ 0  0  0  0  0  0 37  0  0  0]\n",
      " [ 0  0  0  0  0  0  0 32  0  0]\n",
      " [ 0  2  0  1  0  0  0  0 25  0]\n",
      " [ 0  1  0  4  0  0  0  0  0 26]]\n",
      "0.9444444444444444\n"
     ]
    }
   ],
   "source": [
    "from sklearn.metrics import confusion_matrix\n",
    "final = KNeighborsClassifier(n_neighbors=best_k)\n",
    "final.fit(X_train,y_train)\n",
    "predicted = final.predict(X_test)\n",
    "print(confusion_matrix(y_test,predicted))\n",
    "print(accuracy_score(y_test, predicted))"
   ]
  },
  {
   "cell_type": "markdown",
   "metadata": {},
   "source": [
    "- We will try Random Forest with tunning n_estimators."
   ]
  },
  {
   "cell_type": "markdown",
   "metadata": {},
   "source": [
    "### Tunning Random Forest"
   ]
  },
  {
   "cell_type": "code",
   "execution_count": 173,
   "metadata": {},
   "outputs": [
    {
     "name": "stdout",
     "output_type": "stream",
     "text": [
      "The optimal number of n_estimators is 82\n"
     ]
    }
   ],
   "source": [
    "from sklearn.ensemble import RandomForestClassifier\n",
    "myList = list(range(1,100))\n",
    "\n",
    "cv_scores = []\n",
    "n_estimators = []\n",
    "for k in myList:\n",
    "    rf = RandomForestClassifier(n_estimators=k)\n",
    "    scores = cross_val_score(rf, X_train, y_train, cv=10, scoring='accuracy')\n",
    "    cv_scores.append(scores.mean())\n",
    "    n_estimators.append(k)\n",
    "MSE = [1 - x for x in cv_scores]\n",
    "min(MSE)\n",
    "MSE.index(min(MSE))\n",
    "best_n = myList[MSE.index(min(MSE))]\n",
    "print (\"The optimal number of n_estimators is %d\" % best_n)"
   ]
  },
  {
   "cell_type": "code",
   "execution_count": 174,
   "metadata": {},
   "outputs": [
    {
     "data": {
      "image/png": "[encoded data removed]",
      "text/plain": [
       "<Figure size 432x288 with 1 Axes>"
      ]
     },
     "metadata": {
      "needs_background": "light"
     },
     "output_type": "display_data"
    }
   ],
   "source": [
    "%matplotlib inline \n",
    "import matplotlib.pyplot as plt\n",
    "# plot misclassification error vs k\n",
    "plt.plot(n_estimators, cv_scores)\n",
    "plt.xlabel('Estimators')\n",
    "plt.ylabel('Accuracy')\n",
    "plt.show()"
   ]
  },
  {
   "cell_type": "code",
   "execution_count": 175,
   "metadata": {},
   "outputs": [
    {
     "name": "stdout",
     "output_type": "stream",
     "text": [
      "Confusion Matrix : \n",
      " [[38  0  0  0  0  0  0  0  0  0]\n",
      " [ 0 48  1  0  0  0  0  1  1  0]\n",
      " [ 0  0 36  0  0  0  0  0  0  0]\n",
      " [ 0  0  0 33  0  0  0  1  0  0]\n",
      " [ 0  0  0  0 39  0  0  0  0  0]\n",
      " [ 0  0  0  0  1 30  0  0  0  3]\n",
      " [ 0  0  0  0  0  0 37  0  0  0]\n",
      " [ 0  0  0  0  0  0  0 32  0  0]\n",
      " [ 0  2  0  0  0  1  0  0 25  0]\n",
      " [ 0  0  0  1  0  0  0  0  1 29]]\n",
      "Accuracy Score : \n",
      " 0.9638888888888889\n"
     ]
    }
   ],
   "source": [
    "#Build Final Model\n",
    "from sklearn.metrics import confusion_matrix\n",
    "final = RandomForestClassifier(n_estimators=best_n)\n",
    "final.fit(X_train,y_train)\n",
    "predicted = final.predict(X_test)\n",
    "print('Confusion Matrix : \\n',confusion_matrix(y_test,predicted))\n",
    "print('Accuracy Score : \\n',accuracy_score(y_test, predicted))"
   ]
  },
  {
   "cell_type": "code",
   "execution_count": null,
   "metadata": {},
   "outputs": [],
   "source": []
  }
 ],
 "metadata": {
  "kernelspec": {
   "display_name": "Python 3",
   "language": "python",
   "name": "python3"
  },
  "language_info": {
   "codemirror_mode": {
    "name": "ipython",
    "version": 3
   },
   "file_extension": ".py",
   "mimetype": "text/x-python",
   "name": "python",
   "nbconvert_exporter": "python",
   "pygments_lexer": "ipython3",
   "version": "3.8.3"
  }
 },
 "nbformat": 4,
 "nbformat_minor": 2
}
